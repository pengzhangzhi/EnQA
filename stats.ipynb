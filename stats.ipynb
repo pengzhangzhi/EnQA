{
 "cells": [
  {
   "cell_type": "code",
   "execution_count": 1,
   "metadata": {},
   "outputs": [],
   "source": [
    "import pandas as pd\n",
    "import os\n",
    "import glob\n",
    "import matplotlib.pyplot as plt\n",
    "import seaborn as sns"
   ]
  },
  {
   "cell_type": "code",
   "execution_count": 64,
   "metadata": {},
   "outputs": [],
   "source": [
    "\n",
    "def read_table(path):\n",
    "    df = pd.DataFrame(columns=['model', 'lDDToligo','TMscore','QSglob'])\n",
    "    with open(path, \"r\") as f:\n",
    "        lines = f.read().splitlines()\n",
    "    for line in lines:\n",
    "        cols = line.split()\n",
    "        \n",
    "        # if line[0] is a string digit\n",
    "        if not (line[0]).isdigit():\n",
    "                    \n",
    "            continue\n",
    "        if len(cols) < 10:\n",
    "            print(\"skipping \", line[0])    \n",
    "            continue\n",
    "        model_name = cols[1]\n",
    "        try:\n",
    "            lDDToligo = float(cols[16])\n",
    "            i = -1\n",
    "            while True:\n",
    "                if \":\" in cols[i]:\n",
    "                    i -= 1\n",
    "                else:\n",
    "                    break\n",
    "            tmscore = float(cols[i])\n",
    "            QSglob = float(cols[4])\n",
    "            \n",
    "        except ValueError:\n",
    "            continue\n",
    "        \n",
    "        df = df.append({'model': model_name, 'lDDToligo': lDDToligo, 'TMscore': tmscore, 'QSglob': QSglob}, ignore_index=True)\n",
    "    return df\n",
    "\n",
    "# read_table(\"/root/EnQA/casp15_true_results/T1132o.txt\")"
   ]
  },
  {
   "attachments": {},
   "cell_type": "markdown",
   "metadata": {},
   "source": [
    "- Read the true and predict score tables and combine them into one table.\n",
    "- The output table are saved in 'casp15_qa_comparison'"
   ]
  },
  {
   "cell_type": "code",
   "execution_count": 65,
   "metadata": {},
   "outputs": [
    {
     "data": {
      "text/plain": [
       "<Figure size 640x480 with 0 Axes>"
      ]
     },
     "metadata": {},
     "output_type": "display_data"
    }
   ],
   "source": [
    "true_dir = \"casp15_true_results\"\n",
    "pred_dir = \"casp15_qa_results\"\n",
    "save_dir = 'casp15_qa_comparison'\n",
    "no_qa_results = []\n",
    "for table in os.listdir(true_dir):\n",
    "    if not table.endswith(\".txt\"):\n",
    "        continue\n",
    "    target_name = table.split(\".\")[0]\n",
    "    true_df = read_table(os.path.join(true_dir, table))\n",
    "    pred_table_path = os.path.join(pred_dir, target_name,f\"qa.csv\")\n",
    "    if not os.path.exists(pred_table_path):\n",
    "        no_qa_results.append(pred_table_path)\n",
    "        continue\n",
    "    pred_table = pd.read_csv(pred_table_path)\n",
    "    if pred_table.shape[0] < 100:\n",
    "        # remove targets that have < 100 predicted models\n",
    "        continue\n",
    "    # rename column names\n",
    "    pred_table.rename(columns={\"model_name\": \"model\",\"lddt\":\"lDDToligo\"}, inplace=True)\n",
    "    # remove a string \"_merged\" from the column \"model\"\n",
    "    pred_table[\"model\"] = pred_table[\"model\"].str.replace(\"_merged\",\"\")\n",
    "\n",
    "    shared_df = true_df.merge(pred_table, on='model', how='inner', suffixes=('_True', '_EnQA-MSA'))\n",
    "    # plot scatter plot for column \"lDDToligo_True\" and \"lDDToligo_EnQA-MSA\" and regression line using sns\n",
    "    sns.scatterplot(x=\"lDDToligo_True\", y=\"lDDToligo_EnQA-MSA\",  data=shared_df)\n",
    "    sns.regplot(x=\"lDDToligo_True\", y=\"lDDToligo_EnQA-MSA\", data=shared_df)\n",
    "    plt.savefig(os.path.join(save_dir, f\"{target_name}.png\"))\n",
    "    plt.clf()\n",
    "    \n",
    "    shared_df.to_csv(os.path.join(save_dir, f\"{target_name}.csv\"), index=False)\n"
   ]
  },
  {
   "cell_type": "code",
   "execution_count": 66,
   "metadata": {},
   "outputs": [
    {
     "data": {
      "text/plain": [
       "['casp15_qa_results/H1157/qa.csv',\n",
       " 'casp15_qa_results/H1137/qa.csv',\n",
       " 'casp15_qa_results/H1168/qa.csv',\n",
       " 'casp15_qa_results/H1111/qa.csv',\n",
       " 'casp15_qa_results/H1168v1/qa.csv',\n",
       " 'casp15_qa_results/H1114/qa.csv',\n",
       " 'casp15_qa_results/H1114v2/qa.csv',\n",
       " 'casp15_qa_results/H1185/qa.csv',\n",
       " 'casp15_qa_results/H1171/qa.csv',\n",
       " 'casp15_qa_results/T1115o/qa.csv',\n",
       " 'casp15_qa_results/H1134/qa.csv']"
      ]
     },
     "execution_count": 66,
     "metadata": {},
     "output_type": "execute_result"
    }
   ],
   "source": [
    "# the following targets are not in the EnQA-MSA results because they are too long to exceed the memory limit.\n",
    "no_qa_results"
   ]
  },
  {
   "cell_type": "code",
   "execution_count": 67,
   "metadata": {},
   "outputs": [],
   "source": [
    "def calc_correlation(df):\n",
    "    # select the two columns we want to calculate correlation for\n",
    "    selected_columns = df[[\"lDDToligo_True\", \"lDDToligo_EnQA-MSA\"]]\n",
    "    # calculate the correlation matrix\n",
    "    corr_matrix = selected_columns.corr()\n",
    "    # return the correlation value for the two columns\n",
    "    return corr_matrix.loc[\"lDDToligo_True\", \"lDDToligo_EnQA-MSA\"]  \n",
    "\n",
    "def calc_loss(df):\n",
    "    # sort the dataframe by predicted quality score in descending order\n",
    "    first_ranked_model_by_lddt = df.sort_values(\"lDDToligo_EnQA-MSA\", ascending=False).iloc[0]\n",
    "    first_ranked_model_true_lddt = first_ranked_model_by_lddt[\"lDDToligo_True\"]\n",
    "    first_ranked_model_true_tmscore = first_ranked_model_by_lddt[\"TMscore\"]\n",
    "    first_ranked_model_true_qsglob = first_ranked_model_by_lddt[\"QSglob\"]\n",
    "    best_lddt = df.sort_values(\"lDDToligo_True\", ascending=False).iloc[0][\"lDDToligo_True\"]\n",
    "    best_tmscore = df.sort_values(\"TMscore\", ascending=False).iloc[0][\"TMscore\"]\n",
    "    best_qsglob = df.sort_values(\"QSglob\", ascending=False).iloc[0][\"QSglob\"]\n",
    "    # calculate the loss\n",
    "    loss_lddt = best_lddt - first_ranked_model_true_lddt\n",
    "    loss_tmscore = best_tmscore - first_ranked_model_true_tmscore\n",
    "    loss_qsglob = best_qsglob - first_ranked_model_true_qsglob\n",
    "    return  loss_lddt, loss_tmscore, loss_qsglob"
   ]
  },
  {
   "cell_type": "code",
   "execution_count": 68,
   "metadata": {},
   "outputs": [
    {
     "name": "stdout",
     "output_type": "stream",
     "text": [
      "     target  correlation  loss-LDDT  loss-TMscore  loss-QSglob\n",
      "0    T1132o     0.643353      0.004         0.000        0.000\n",
      "1    T1124o     0.410851      0.002         0.018        0.010\n",
      "2     H1141     0.416283      0.095         0.362        0.925\n",
      "3     H1144     0.263351      0.009         0.001        0.021\n",
      "4    T1109o     0.344015      0.062         0.072        0.463\n",
      "5    T1127o     0.476944      0.039         0.010        0.026\n",
      "6     H1140     0.205527      0.000         0.000        0.000\n",
      "7     H1167     0.301865      0.056         0.176        0.166\n",
      "8     H1106    -0.139552      0.496         0.429        0.870\n",
      "9    T1110o     0.474538      0.014         0.009        0.005\n",
      "10   T1113o     0.654506      0.072         0.114        0.086\n",
      "11    H1151    -0.067309      0.058         0.027        0.029\n",
      "12  H1166v1     0.259850      0.036         0.050        0.279\n",
      "13  H1167v1     0.301737      0.056         0.228        0.122\n",
      "14   T1121o     0.365142      0.019         0.305        0.463\n",
      "15    H1166     0.259852      0.036         0.047        0.190\n",
      "16    H1142     0.185464      0.437         0.233        0.657\n",
      "17    H1143     0.549620      0.010         0.008        0.005\n",
      "18   T1123o     0.148827      0.194         0.424        0.503\n"
     ]
    }
   ],
   "source": [
    "stats = pd.DataFrame(columns=[\"target\", \"correlation\", \"loss-LDDT\", \"loss-TMscore\", \"loss-QSglob\"])\n",
    "for table_path in glob.glob(save_dir+\"/*.csv\"):\n",
    "    table_name = table_path.split(\"/\")[-1].split(\".\")[0]\n",
    "    table = pd.read_csv(table_path)\n",
    "    correlation = calc_correlation(table)\n",
    "    loss_lddt, loss_tmscore, loss_qsglob = calc_loss(table)\n",
    "    stats = stats.append({\"target\": table_name, \"correlation\": correlation, \"loss-LDDT\": loss_lddt , \"loss-TMscore\": loss_tmscore, \"loss-QSglob\": loss_qsglob}, ignore_index=True)\n",
    "print(stats)\n",
    "stats.to_csv(\"casp15_multimer_EnQA-MSA.csv\", index=False,float_format='%.3f')\n",
    "    "
   ]
  },
  {
   "cell_type": "code",
   "execution_count": 69,
   "metadata": {},
   "outputs": [],
   "source": [
    "df = pd.read_csv(\"/root/EnQA/casp15_qa_comparison/T1132o.csv\")"
   ]
  },
  {
   "cell_type": "code",
   "execution_count": 60,
   "metadata": {},
   "outputs": [
    {
     "data": {
      "text/html": [
       "<div>\n",
       "<style scoped>\n",
       "    .dataframe tbody tr th:only-of-type {\n",
       "        vertical-align: middle;\n",
       "    }\n",
       "\n",
       "    .dataframe tbody tr th {\n",
       "        vertical-align: top;\n",
       "    }\n",
       "\n",
       "    .dataframe thead th {\n",
       "        text-align: right;\n",
       "    }\n",
       "</style>\n",
       "<table border=\"1\" class=\"dataframe\">\n",
       "  <thead>\n",
       "    <tr style=\"text-align: right;\">\n",
       "      <th></th>\n",
       "      <th>model</th>\n",
       "      <th>lDDToligo_True</th>\n",
       "      <th>TMscore</th>\n",
       "      <th>QSglob</th>\n",
       "      <th>lDDToligo_EnQA-MSA</th>\n",
       "    </tr>\n",
       "  </thead>\n",
       "  <tbody>\n",
       "    <tr>\n",
       "      <th>0</th>\n",
       "      <td>T1132TS180_1o</td>\n",
       "      <td>0.928</td>\n",
       "      <td>0.997</td>\n",
       "      <td>0.954</td>\n",
       "      <td>0.929199</td>\n",
       "    </tr>\n",
       "    <tr>\n",
       "      <th>2</th>\n",
       "      <td>T1132TS462_3o</td>\n",
       "      <td>0.929</td>\n",
       "      <td>0.997</td>\n",
       "      <td>0.951</td>\n",
       "      <td>0.916992</td>\n",
       "    </tr>\n",
       "    <tr>\n",
       "      <th>1</th>\n",
       "      <td>T1132TS462_1o</td>\n",
       "      <td>0.932</td>\n",
       "      <td>0.997</td>\n",
       "      <td>0.953</td>\n",
       "      <td>0.923340</td>\n",
       "    </tr>\n",
       "    <tr>\n",
       "      <th>3</th>\n",
       "      <td>T1132TS180_2o</td>\n",
       "      <td>0.924</td>\n",
       "      <td>0.996</td>\n",
       "      <td>0.951</td>\n",
       "      <td>0.928711</td>\n",
       "    </tr>\n",
       "    <tr>\n",
       "      <th>5</th>\n",
       "      <td>T1132TS462_2o</td>\n",
       "      <td>0.928</td>\n",
       "      <td>0.996</td>\n",
       "      <td>0.949</td>\n",
       "      <td>0.920898</td>\n",
       "    </tr>\n",
       "    <tr>\n",
       "      <th>...</th>\n",
       "      <td>...</td>\n",
       "      <td>...</td>\n",
       "      <td>...</td>\n",
       "      <td>...</td>\n",
       "      <td>...</td>\n",
       "    </tr>\n",
       "    <tr>\n",
       "      <th>218</th>\n",
       "      <td>T1132TS234_2o</td>\n",
       "      <td>0.473</td>\n",
       "      <td>0.307</td>\n",
       "      <td>0.043</td>\n",
       "      <td>0.525879</td>\n",
       "    </tr>\n",
       "    <tr>\n",
       "      <th>220</th>\n",
       "      <td>T1132TS312_4o</td>\n",
       "      <td>0.684</td>\n",
       "      <td>0.285</td>\n",
       "      <td>0.040</td>\n",
       "      <td>0.701172</td>\n",
       "    </tr>\n",
       "    <tr>\n",
       "      <th>216</th>\n",
       "      <td>T1132TS493_3o</td>\n",
       "      <td>0.644</td>\n",
       "      <td>0.272</td>\n",
       "      <td>0.099</td>\n",
       "      <td>0.887695</td>\n",
       "    </tr>\n",
       "    <tr>\n",
       "      <th>219</th>\n",
       "      <td>T1132TS312_5o</td>\n",
       "      <td>0.685</td>\n",
       "      <td>0.235</td>\n",
       "      <td>0.042</td>\n",
       "      <td>0.704102</td>\n",
       "    </tr>\n",
       "    <tr>\n",
       "      <th>221</th>\n",
       "      <td>T1132TS494_5o</td>\n",
       "      <td>0.602</td>\n",
       "      <td>0.228</td>\n",
       "      <td>0.004</td>\n",
       "      <td>0.677246</td>\n",
       "    </tr>\n",
       "  </tbody>\n",
       "</table>\n",
       "<p>222 rows × 5 columns</p>\n",
       "</div>"
      ],
      "text/plain": [
       "             model  lDDToligo_True  TMscore  QSglob  lDDToligo_EnQA-MSA\n",
       "0    T1132TS180_1o           0.928    0.997   0.954            0.929199\n",
       "2    T1132TS462_3o           0.929    0.997   0.951            0.916992\n",
       "1    T1132TS462_1o           0.932    0.997   0.953            0.923340\n",
       "3    T1132TS180_2o           0.924    0.996   0.951            0.928711\n",
       "5    T1132TS462_2o           0.928    0.996   0.949            0.920898\n",
       "..             ...             ...      ...     ...                 ...\n",
       "218  T1132TS234_2o           0.473    0.307   0.043            0.525879\n",
       "220  T1132TS312_4o           0.684    0.285   0.040            0.701172\n",
       "216  T1132TS493_3o           0.644    0.272   0.099            0.887695\n",
       "219  T1132TS312_5o           0.685    0.235   0.042            0.704102\n",
       "221  T1132TS494_5o           0.602    0.228   0.004            0.677246\n",
       "\n",
       "[222 rows x 5 columns]"
      ]
     },
     "execution_count": 60,
     "metadata": {},
     "output_type": "execute_result"
    }
   ],
   "source": [
    "df.sort_values(\"TMscore\", ascending=False)"
   ]
  },
  {
   "cell_type": "code",
   "execution_count": null,
   "metadata": {},
   "outputs": [],
   "source": []
  }
 ],
 "metadata": {
  "kernelspec": {
   "display_name": "torch1.8",
   "language": "python",
   "name": "python3"
  },
  "language_info": {
   "codemirror_mode": {
    "name": "ipython",
    "version": 3
   },
   "file_extension": ".py",
   "mimetype": "text/x-python",
   "name": "python",
   "nbconvert_exporter": "python",
   "pygments_lexer": "ipython3",
   "version": "3.8.10"
  },
  "orig_nbformat": 4,
  "vscode": {
   "interpreter": {
    "hash": "c88769b4bf8bd5125e1b267a772286880f66d23d8fbaf35cf76e20ad3cd963d1"
   }
  }
 },
 "nbformat": 4,
 "nbformat_minor": 2
}
