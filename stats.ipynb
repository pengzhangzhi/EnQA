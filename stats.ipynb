{
 "cells": [
  {
   "cell_type": "code",
   "execution_count": 1,
   "metadata": {},
   "outputs": [],
   "source": [
    "import pandas as pd\n",
    "import os\n",
    "import glob\n",
    "import matplotlib.pyplot as plt\n",
    "import seaborn as sns"
   ]
  },
  {
   "cell_type": "code",
   "execution_count": 2,
   "metadata": {},
   "outputs": [],
   "source": [
    "\n",
    "def read_table(path):\n",
    "    df = pd.DataFrame(columns=['model', 'lDDToligo'])\n",
    "    with open(path, \"r\") as f:\n",
    "        lines = f.read().splitlines()\n",
    "    for line in lines:\n",
    "        cols = line.split()\n",
    "        # if line[0] is a string digit\n",
    "        if not (line[0]).isdigit():\n",
    "            continue\n",
    "        if len(cols) < 10:\n",
    "            continue\n",
    "        model_name = cols[1]\n",
    "        try:\n",
    "            lDDToligo = float(cols[16])\n",
    "        except ValueError:\n",
    "            continue\n",
    "        df = df.append({'model': model_name, 'lDDToligo': lDDToligo}, ignore_index=True)\n",
    "    return df\n",
    "\n"
   ]
  },
  {
   "attachments": {},
   "cell_type": "markdown",
   "metadata": {},
   "source": [
    "- Read the true and predict score tables and combine them into one table.\n",
    "- The output table are saved in 'casp15_qa_comparison'"
   ]
  },
  {
   "cell_type": "code",
   "execution_count": 3,
   "metadata": {},
   "outputs": [
    {
     "data": {
      "text/plain": [
       "<Figure size 640x480 with 0 Axes>"
      ]
     },
     "metadata": {},
     "output_type": "display_data"
    }
   ],
   "source": [
    "true_dir = \"casp15_true_results\"\n",
    "pred_dir = \"casp15_qa_results\"\n",
    "save_dir = 'casp15_qa_comparison'\n",
    "no_qa_results = []\n",
    "for table in os.listdir(true_dir):\n",
    "    if not table.endswith(\".txt\"):\n",
    "        continue\n",
    "    target_name = table.split(\".\")[0]\n",
    "    true_df = read_table(os.path.join(true_dir, table))\n",
    "    pred_table_path = os.path.join(pred_dir, target_name,f\"qa.csv\")\n",
    "    if not os.path.exists(pred_table_path):\n",
    "        no_qa_results.append(pred_table_path)\n",
    "        continue\n",
    "    pred_table = pd.read_csv(pred_table_path)\n",
    "    if pred_table.shape[0] < 100:\n",
    "        # remove targets that have < 100 predicted models\n",
    "        continue\n",
    "    # rename column names\n",
    "    pred_table.rename(columns={\"model_name\": \"model\",\"lddt\":\"lDDToligo\"}, inplace=True)\n",
    "    # remove a string \"_merged\" from the column \"model\"\n",
    "    pred_table[\"model\"] = pred_table[\"model\"].str.replace(\"_merged\",\"\")\n",
    "\n",
    "    shared_df = true_df.merge(pred_table, on='model', how='inner', suffixes=('_True', '_EnQA-MSA'))\n",
    "    # plot scatter plot for column \"lDDToligo_True\" and \"lDDToligo_EnQA-MSA\" and regression line using sns\n",
    "    sns.scatterplot(x=\"lDDToligo_True\", y=\"lDDToligo_EnQA-MSA\",  data=shared_df)\n",
    "    sns.regplot(x=\"lDDToligo_True\", y=\"lDDToligo_EnQA-MSA\", data=shared_df)\n",
    "    plt.savefig(os.path.join(save_dir, f\"{target_name}.png\"))\n",
    "    plt.clf()\n",
    "    \n",
    "    shared_df.to_csv(os.path.join(save_dir, f\"{target_name}.csv\"), index=False)\n"
   ]
  },
  {
   "cell_type": "code",
   "execution_count": 4,
   "metadata": {},
   "outputs": [
    {
     "data": {
      "text/plain": [
       "['casp15_qa_results/H1157/qa.csv',\n",
       " 'casp15_qa_results/H1137/qa.csv',\n",
       " 'casp15_qa_results/H1168/qa.csv',\n",
       " 'casp15_qa_results/H1111/qa.csv',\n",
       " 'casp15_qa_results/H1168v1/qa.csv',\n",
       " 'casp15_qa_results/H1114/qa.csv',\n",
       " 'casp15_qa_results/H1114v2/qa.csv',\n",
       " 'casp15_qa_results/H1185/qa.csv',\n",
       " 'casp15_qa_results/H1171/qa.csv',\n",
       " 'casp15_qa_results/T1115o/qa.csv',\n",
       " 'casp15_qa_results/H1134/qa.csv']"
      ]
     },
     "execution_count": 4,
     "metadata": {},
     "output_type": "execute_result"
    }
   ],
   "source": [
    "# the following targets are not in the EnQA-MSA results because they are too long to exceed the memory limit.\n",
    "no_qa_results"
   ]
  },
  {
   "cell_type": "code",
   "execution_count": 5,
   "metadata": {},
   "outputs": [],
   "source": [
    "def calc_correlation(df):\n",
    "    # select the two columns we want to calculate correlation for\n",
    "    selected_columns = df[[\"lDDToligo_True\", \"lDDToligo_EnQA-MSA\"]]\n",
    "    # calculate the correlation matrix\n",
    "    corr_matrix = selected_columns.corr()\n",
    "    # return the correlation value for the two columns\n",
    "    return corr_matrix.loc[\"lDDToligo_True\", \"lDDToligo_EnQA-MSA\"]  \n",
    "\n",
    "def calc_loss(df):\n",
    "    # sort the dataframe by predicted quality score in descending order\n",
    "    first_ranked_model_true_score = df.sort_values(\"lDDToligo_EnQA-MSA\", ascending=False).iloc[0][\"lDDToligo_True\"]\n",
    "    top_model_true_score = df.sort_values(\"lDDToligo_True\", ascending=False).iloc[0][\"lDDToligo_True\"]\n",
    "    # calculate the loss\n",
    "    loss = top_model_true_score - first_ranked_model_true_score\n",
    "    return loss"
   ]
  },
  {
   "cell_type": "code",
   "execution_count": 6,
   "metadata": {},
   "outputs": [
    {
     "name": "stdout",
     "output_type": "stream",
     "text": [
      "     target  correlation   loss\n",
      "0    T1132o     0.643353  0.004\n",
      "1    T1124o     0.410851  0.002\n",
      "2     H1141     0.416283  0.095\n",
      "3     H1144     0.263351  0.009\n",
      "4    T1109o     0.344015  0.062\n",
      "5    T1127o     0.476944  0.039\n",
      "6     H1140     0.205527  0.000\n",
      "7     H1167     0.301865  0.056\n",
      "8     H1106    -0.139552  0.496\n",
      "9    T1110o     0.474538  0.014\n",
      "10   T1113o     0.654506  0.072\n",
      "11    H1151    -0.067309  0.058\n",
      "12  H1166v1     0.259850  0.036\n",
      "13  H1167v1     0.301737  0.056\n",
      "14   T1121o     0.365142  0.019\n",
      "15    H1166     0.259852  0.036\n",
      "16    H1142     0.185464  0.437\n",
      "17    H1143     0.549620  0.010\n",
      "18   T1123o     0.148827  0.194\n"
     ]
    }
   ],
   "source": [
    "stats = pd.DataFrame(columns=[\"target\", \"correlation\", \"loss\"])\n",
    "for table_path in glob.glob(save_dir+\"/*.csv\"):\n",
    "    table_name = table_path.split(\"/\")[-1].split(\".\")[0]\n",
    "    table = pd.read_csv(table_path)\n",
    "    correlation = calc_correlation(table)\n",
    "    loss = calc_loss(table)\n",
    "    stats = stats.append({\"target\": table_name, \"correlation\": correlation, \"loss\": loss}, ignore_index=True)\n",
    "print(stats)\n",
    "stats.to_csv(\"casp15_multimer_EnQA-MSA.csv\", index=False,float_format='%.3f')\n",
    "    "
   ]
  },
  {
   "cell_type": "code",
   "execution_count": null,
   "metadata": {},
   "outputs": [],
   "source": []
  }
 ],
 "metadata": {
  "kernelspec": {
   "display_name": "torch1.8",
   "language": "python",
   "name": "python3"
  },
  "language_info": {
   "codemirror_mode": {
    "name": "ipython",
    "version": 3
   },
   "file_extension": ".py",
   "mimetype": "text/x-python",
   "name": "python",
   "nbconvert_exporter": "python",
   "pygments_lexer": "ipython3",
   "version": "3.8.10"
  },
  "orig_nbformat": 4,
  "vscode": {
   "interpreter": {
    "hash": "c88769b4bf8bd5125e1b267a772286880f66d23d8fbaf35cf76e20ad3cd963d1"
   }
  }
 },
 "nbformat": 4,
 "nbformat_minor": 2
}
